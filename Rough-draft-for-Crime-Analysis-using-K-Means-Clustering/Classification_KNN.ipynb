{
  "nbformat": 4,
  "nbformat_minor": 0,
  "metadata": {
    "colab": {
      "provenance": [],
      "collapsed_sections": []
    },
    "kernelspec": {
      "name": "python3",
      "display_name": "Python 3"
    },
    "language_info": {
      "name": "python"
    }
  },
  "cells": [
    {
      "cell_type": "code",
      "execution_count": null,
      "metadata": {
        "id": "ok4bpKaNgCe5"
      },
      "outputs": [],
      "source": [
        "import pandas as pd\n",
        "import numpy as np\n",
        "import matplotlib.pyplot as plt\n",
        "import seaborn as sns\n",
        "%matplotlib inline"
      ]
    },
    {
      "cell_type": "code",
      "source": [
        "dataset=pd.read_excel(r'DATA.xlsx',sheet_name='2020')"
      ],
      "metadata": {
        "id": "rrQnI0s6gzUL"
      },
      "execution_count": null,
      "outputs": []
    },
    {
      "cell_type": "code",
      "source": [
        "data=pd.read_excel(r'DATA.xlsx')"
      ],
      "metadata": {
        "id": "g2KOmUxzBCIy"
      },
      "execution_count": null,
      "outputs": []
    },
    {
      "cell_type": "code",
      "source": [
        "dataset.head()"
      ],
      "metadata": {
        "colab": {
          "base_uri": "https://localhost:8080/",
          "height": 369
        },
        "id": "-xjSN7b7BPaQ",
        "outputId": "9652f973-d0d0-4573-ec4b-aefe3a217f83"
      },
      "execution_count": null,
      "outputs": [
        {
          "output_type": "execute_result",
          "data": {
            "text/plain": [
              "  Unnamed: 0         Unnamed: 1 Unnamed: 2                   Unnamed: 3  \\\n",
              "0      S. No  State/UT/District   Homicide  Causing death by negligence   \n",
              "1          1         Ahmednagar        254                          620   \n",
              "2          2              Akola        114                          116   \n",
              "3          3           Amravati        201                          354   \n",
              "4          4          Aurangbad        139                          386   \n",
              "\n",
              "  Unnamed: 4        Unnamed: 5                Unnamed: 6          Unnamed: 7  \\\n",
              "0       Hurt  Assault on woman  Kidnapping and abduction  Human trafficking    \n",
              "1       1826               543                       369                   0   \n",
              "2       1345               245                        76                   0   \n",
              "3       2133               461                       190                   0   \n",
              "4       1869               335                       242                   0   \n",
              "\n",
              "  Unnamed: 8                          Unnamed: 9  ...    Unnamed: 12  \\\n",
              "0       Rape  Offence against public tranquility  ...  Miscellaneous   \n",
              "1         92                                 905  ...          30535   \n",
              "2         28                                 111  ...           4244   \n",
              "3         97                                 144  ...           3921   \n",
              "4         80                                 428  ...           4292   \n",
              "\n",
              "  Unnamed: 13 Unnamed: 14 Unnamed: 15 Unnamed: 16 Unnamed: 17 Unnamed: 18  \\\n",
              "0      Others       Total  Population  Crime Rate   Sex Ratio    Literacy   \n",
              "1         221       38689     4543159    0.851588         939      0.7905   \n",
              "2         213        7524     1813906    0.414795         946      0.8805   \n",
              "3         164       10113     2888445    0.350119         951      0.8738   \n",
              "4         411       12268     3701282    0.331453         923      0.7902   \n",
              "\n",
              "  Unnamed: 19 Unnamed: 20 Unnamed: 21  \n",
              "0     Density    Latitude   Longitude  \n",
              "1         266   19.094829   74.747979  \n",
              "2         320   20.700216   77.008168  \n",
              "3         237   20.931982   77.752304  \n",
              "4         366   19.876165   75.343314  \n",
              "\n",
              "[5 rows x 22 columns]"
            ],
            "text/html": [
              "\n",
              "  <div id=\"df-3fec581d-983f-4903-9075-2b4b4f89eab3\">\n",
              "    <div class=\"colab-df-container\">\n",
              "      <div>\n",
              "<style scoped>\n",
              "    .dataframe tbody tr th:only-of-type {\n",
              "        vertical-align: middle;\n",
              "    }\n",
              "\n",
              "    .dataframe tbody tr th {\n",
              "        vertical-align: top;\n",
              "    }\n",
              "\n",
              "    .dataframe thead th {\n",
              "        text-align: right;\n",
              "    }\n",
              "</style>\n",
              "<table border=\"1\" class=\"dataframe\">\n",
              "  <thead>\n",
              "    <tr style=\"text-align: right;\">\n",
              "      <th></th>\n",
              "      <th>Unnamed: 0</th>\n",
              "      <th>Unnamed: 1</th>\n",
              "      <th>Unnamed: 2</th>\n",
              "      <th>Unnamed: 3</th>\n",
              "      <th>Unnamed: 4</th>\n",
              "      <th>Unnamed: 5</th>\n",
              "      <th>Unnamed: 6</th>\n",
              "      <th>Unnamed: 7</th>\n",
              "      <th>Unnamed: 8</th>\n",
              "      <th>Unnamed: 9</th>\n",
              "      <th>...</th>\n",
              "      <th>Unnamed: 12</th>\n",
              "      <th>Unnamed: 13</th>\n",
              "      <th>Unnamed: 14</th>\n",
              "      <th>Unnamed: 15</th>\n",
              "      <th>Unnamed: 16</th>\n",
              "      <th>Unnamed: 17</th>\n",
              "      <th>Unnamed: 18</th>\n",
              "      <th>Unnamed: 19</th>\n",
              "      <th>Unnamed: 20</th>\n",
              "      <th>Unnamed: 21</th>\n",
              "    </tr>\n",
              "  </thead>\n",
              "  <tbody>\n",
              "    <tr>\n",
              "      <th>0</th>\n",
              "      <td>S. No</td>\n",
              "      <td>State/UT/District</td>\n",
              "      <td>Homicide</td>\n",
              "      <td>Causing death by negligence</td>\n",
              "      <td>Hurt</td>\n",
              "      <td>Assault on woman</td>\n",
              "      <td>Kidnapping and abduction</td>\n",
              "      <td>Human trafficking</td>\n",
              "      <td>Rape</td>\n",
              "      <td>Offence against public tranquility</td>\n",
              "      <td>...</td>\n",
              "      <td>Miscellaneous</td>\n",
              "      <td>Others</td>\n",
              "      <td>Total</td>\n",
              "      <td>Population</td>\n",
              "      <td>Crime Rate</td>\n",
              "      <td>Sex Ratio</td>\n",
              "      <td>Literacy</td>\n",
              "      <td>Density</td>\n",
              "      <td>Latitude</td>\n",
              "      <td>Longitude</td>\n",
              "    </tr>\n",
              "    <tr>\n",
              "      <th>1</th>\n",
              "      <td>1</td>\n",
              "      <td>Ahmednagar</td>\n",
              "      <td>254</td>\n",
              "      <td>620</td>\n",
              "      <td>1826</td>\n",
              "      <td>543</td>\n",
              "      <td>369</td>\n",
              "      <td>0</td>\n",
              "      <td>92</td>\n",
              "      <td>905</td>\n",
              "      <td>...</td>\n",
              "      <td>30535</td>\n",
              "      <td>221</td>\n",
              "      <td>38689</td>\n",
              "      <td>4543159</td>\n",
              "      <td>0.851588</td>\n",
              "      <td>939</td>\n",
              "      <td>0.7905</td>\n",
              "      <td>266</td>\n",
              "      <td>19.094829</td>\n",
              "      <td>74.747979</td>\n",
              "    </tr>\n",
              "    <tr>\n",
              "      <th>2</th>\n",
              "      <td>2</td>\n",
              "      <td>Akola</td>\n",
              "      <td>114</td>\n",
              "      <td>116</td>\n",
              "      <td>1345</td>\n",
              "      <td>245</td>\n",
              "      <td>76</td>\n",
              "      <td>0</td>\n",
              "      <td>28</td>\n",
              "      <td>111</td>\n",
              "      <td>...</td>\n",
              "      <td>4244</td>\n",
              "      <td>213</td>\n",
              "      <td>7524</td>\n",
              "      <td>1813906</td>\n",
              "      <td>0.414795</td>\n",
              "      <td>946</td>\n",
              "      <td>0.8805</td>\n",
              "      <td>320</td>\n",
              "      <td>20.700216</td>\n",
              "      <td>77.008168</td>\n",
              "    </tr>\n",
              "    <tr>\n",
              "      <th>3</th>\n",
              "      <td>3</td>\n",
              "      <td>Amravati</td>\n",
              "      <td>201</td>\n",
              "      <td>354</td>\n",
              "      <td>2133</td>\n",
              "      <td>461</td>\n",
              "      <td>190</td>\n",
              "      <td>0</td>\n",
              "      <td>97</td>\n",
              "      <td>144</td>\n",
              "      <td>...</td>\n",
              "      <td>3921</td>\n",
              "      <td>164</td>\n",
              "      <td>10113</td>\n",
              "      <td>2888445</td>\n",
              "      <td>0.350119</td>\n",
              "      <td>951</td>\n",
              "      <td>0.8738</td>\n",
              "      <td>237</td>\n",
              "      <td>20.931982</td>\n",
              "      <td>77.752304</td>\n",
              "    </tr>\n",
              "    <tr>\n",
              "      <th>4</th>\n",
              "      <td>4</td>\n",
              "      <td>Aurangbad</td>\n",
              "      <td>139</td>\n",
              "      <td>386</td>\n",
              "      <td>1869</td>\n",
              "      <td>335</td>\n",
              "      <td>242</td>\n",
              "      <td>0</td>\n",
              "      <td>80</td>\n",
              "      <td>428</td>\n",
              "      <td>...</td>\n",
              "      <td>4292</td>\n",
              "      <td>411</td>\n",
              "      <td>12268</td>\n",
              "      <td>3701282</td>\n",
              "      <td>0.331453</td>\n",
              "      <td>923</td>\n",
              "      <td>0.7902</td>\n",
              "      <td>366</td>\n",
              "      <td>19.876165</td>\n",
              "      <td>75.343314</td>\n",
              "    </tr>\n",
              "  </tbody>\n",
              "</table>\n",
              "<p>5 rows × 22 columns</p>\n",
              "</div>\n",
              "      <button class=\"colab-df-convert\" onclick=\"convertToInteractive('df-3fec581d-983f-4903-9075-2b4b4f89eab3')\"\n",
              "              title=\"Convert this dataframe to an interactive table.\"\n",
              "              style=\"display:none;\">\n",
              "        \n",
              "  <svg xmlns=\"http://www.w3.org/2000/svg\" height=\"24px\"viewBox=\"0 0 24 24\"\n",
              "       width=\"24px\">\n",
              "    <path d=\"M0 0h24v24H0V0z\" fill=\"none\"/>\n",
              "    <path d=\"M18.56 5.44l.94 2.06.94-2.06 2.06-.94-2.06-.94-.94-2.06-.94 2.06-2.06.94zm-11 1L8.5 8.5l.94-2.06 2.06-.94-2.06-.94L8.5 2.5l-.94 2.06-2.06.94zm10 10l.94 2.06.94-2.06 2.06-.94-2.06-.94-.94-2.06-.94 2.06-2.06.94z\"/><path d=\"M17.41 7.96l-1.37-1.37c-.4-.4-.92-.59-1.43-.59-.52 0-1.04.2-1.43.59L10.3 9.45l-7.72 7.72c-.78.78-.78 2.05 0 2.83L4 21.41c.39.39.9.59 1.41.59.51 0 1.02-.2 1.41-.59l7.78-7.78 2.81-2.81c.8-.78.8-2.07 0-2.86zM5.41 20L4 18.59l7.72-7.72 1.47 1.35L5.41 20z\"/>\n",
              "  </svg>\n",
              "      </button>\n",
              "      \n",
              "  <style>\n",
              "    .colab-df-container {\n",
              "      display:flex;\n",
              "      flex-wrap:wrap;\n",
              "      gap: 12px;\n",
              "    }\n",
              "\n",
              "    .colab-df-convert {\n",
              "      background-color: #E8F0FE;\n",
              "      border: none;\n",
              "      border-radius: 50%;\n",
              "      cursor: pointer;\n",
              "      display: none;\n",
              "      fill: #1967D2;\n",
              "      height: 32px;\n",
              "      padding: 0 0 0 0;\n",
              "      width: 32px;\n",
              "    }\n",
              "\n",
              "    .colab-df-convert:hover {\n",
              "      background-color: #E2EBFA;\n",
              "      box-shadow: 0px 1px 2px rgba(60, 64, 67, 0.3), 0px 1px 3px 1px rgba(60, 64, 67, 0.15);\n",
              "      fill: #174EA6;\n",
              "    }\n",
              "\n",
              "    [theme=dark] .colab-df-convert {\n",
              "      background-color: #3B4455;\n",
              "      fill: #D2E3FC;\n",
              "    }\n",
              "\n",
              "    [theme=dark] .colab-df-convert:hover {\n",
              "      background-color: #434B5C;\n",
              "      box-shadow: 0px 1px 3px 1px rgba(0, 0, 0, 0.15);\n",
              "      filter: drop-shadow(0px 1px 2px rgba(0, 0, 0, 0.3));\n",
              "      fill: #FFFFFF;\n",
              "    }\n",
              "  </style>\n",
              "\n",
              "      <script>\n",
              "        const buttonEl =\n",
              "          document.querySelector('#df-3fec581d-983f-4903-9075-2b4b4f89eab3 button.colab-df-convert');\n",
              "        buttonEl.style.display =\n",
              "          google.colab.kernel.accessAllowed ? 'block' : 'none';\n",
              "\n",
              "        async function convertToInteractive(key) {\n",
              "          const element = document.querySelector('#df-3fec581d-983f-4903-9075-2b4b4f89eab3');\n",
              "          const dataTable =\n",
              "            await google.colab.kernel.invokeFunction('convertToInteractive',\n",
              "                                                     [key], {});\n",
              "          if (!dataTable) return;\n",
              "\n",
              "          const docLinkHtml = 'Like what you see? Visit the ' +\n",
              "            '<a target=\"_blank\" href=https://colab.research.google.com/notebooks/data_table.ipynb>data table notebook</a>'\n",
              "            + ' to learn more about interactive tables.';\n",
              "          element.innerHTML = '';\n",
              "          dataTable['output_type'] = 'display_data';\n",
              "          await google.colab.output.renderOutput(dataTable, element);\n",
              "          const docLink = document.createElement('div');\n",
              "          docLink.innerHTML = docLinkHtml;\n",
              "          element.appendChild(docLink);\n",
              "        }\n",
              "      </script>\n",
              "    </div>\n",
              "  </div>\n",
              "  "
            ]
          },
          "metadata": {},
          "execution_count": 5
        }
      ]
    },
    {
      "cell_type": "code",
      "source": [
        "for col in data:\n",
        "    print (type(data[col][1]))"
      ],
      "metadata": {
        "colab": {
          "base_uri": "https://localhost:8080/"
        },
        "id": "sSuDOhgFBPTH",
        "outputId": "aec05b47-7a33-446d-d9a0-ea4e757e6d70"
      },
      "execution_count": null,
      "outputs": [
        {
          "output_type": "stream",
          "name": "stdout",
          "text": [
            "<class 'int'>\n",
            "<class 'str'>\n",
            "<class 'int'>\n",
            "<class 'int'>\n",
            "<class 'int'>\n",
            "<class 'int'>\n",
            "<class 'int'>\n",
            "<class 'int'>\n",
            "<class 'int'>\n",
            "<class 'int'>\n",
            "<class 'int'>\n",
            "<class 'int'>\n",
            "<class 'int'>\n",
            "<class 'int'>\n",
            "<class 'int'>\n",
            "<class 'int'>\n",
            "<class 'float'>\n",
            "<class 'int'>\n",
            "<class 'float'>\n",
            "<class 'int'>\n",
            "<class 'float'>\n",
            "<class 'float'>\n"
          ]
        }
      ]
    },
    {
      "cell_type": "markdown",
      "source": [
        "# Extracting Independent and dependent Variable "
      ],
      "metadata": {
        "id": "NRsgYCbID4Ek"
      }
    },
    {
      "cell_type": "code",
      "source": [
        "\n",
        "x= dataset.iloc[:, [2,3,4,5,6,7,8,9,10,11,12,13,14]].values  \n",
        "y= dataset.iloc[:, [20,21]].values    "
      ],
      "metadata": {
        "id": "UIF4Igw5D1hq"
      },
      "execution_count": null,
      "outputs": []
    },
    {
      "cell_type": "code",
      "source": [
        "x"
      ],
      "metadata": {
        "colab": {
          "base_uri": "https://localhost:8080/"
        },
        "id": "eporgk9SHKWD",
        "outputId": "5bc7cd37-24a3-4cd4-b18e-6c2b8c04103e"
      },
      "execution_count": null,
      "outputs": [
        {
          "output_type": "execute_result",
          "data": {
            "text/plain": [
              "array([['Homicide', 'Causing death by negligence', 'Hurt',\n",
              "        'Assault on woman', 'Kidnapping and abduction',\n",
              "        'Human trafficking ', 'Rape',\n",
              "        'Offence against public tranquility',\n",
              "        'Offences against property',\n",
              "        'Offences relating to documents and property marks',\n",
              "        'Miscellaneous', 'Others', 'Total'],\n",
              "       [254, 620, 1826, 543, 369, 0, 92, 905, 3104, 220, 30535, 221,\n",
              "        38689],\n",
              "       [114, 116, 1345, 245, 76, 0, 28, 111, 946, 86, 4244, 213, 7524],\n",
              "       [201, 354, 2133, 461, 190, 0, 97, 144, 2198, 250, 3921, 164,\n",
              "        10113],\n",
              "       [139, 386, 1869, 335, 242, 0, 80, 428, 3821, 265, 4292, 411,\n",
              "        12268],\n",
              "       [206, 308, 1233, 248, 91, 0, 50, 508, 1002, 104, 1858, 111, 5719],\n",
              "       [41, 141, 486, 88, 71, 0, 16, 43, 676, 60, 1051, 54, 2727],\n",
              "       [122, 293, 2099, 313, 110, 0, 36, 320, 1269, 102, 3024, 104, 7792],\n",
              "       [105, 234, 1147, 194, 152, 1, 46, 84, 980, 108, 2235, 355, 5641],\n",
              "       [84, 352, 433, 80, 98, 1, 14, 205, 781, 77, 1237, 175, 3537],\n",
              "       [65, 135, 303, 55, 32, 0, 17, 21, 302, 41, 427, 27, 1425],\n",
              "       [50, 131, 311, 57, 40, 0, 18, 23, 400, 30, 996, 134, 2190],\n",
              "       [75, 119, 649, 73, 27, 0, 15, 140, 436, 35, 1314, 30, 2913],\n",
              "       [192, 439, 901, 259, 187, 0, 34, 440, 2045, 248, 4353, 256, 9354],\n",
              "       [133, 209, 1436, 208, 100, 0, 36, 411, 1618, 170, 1164, 770, 6255],\n",
              "       [146, 313, 1020, 263, 150, 15, 54, 388, 1357, 222, 5190, 202,\n",
              "        9320],\n",
              "       [104, 244, 1077, 138, 111, 3, 26, 303, 964, 94, 2000, 82, 5146],\n",
              "       [521, 349, 4171, 1553, 1180, 58, 331, 392, 17530, 3425, 19788,\n",
              "        9146, 58444],\n",
              "       [299, 581, 2252, 386, 442, 13, 120, 199, 4980, 568, 9647, 312,\n",
              "        19799],\n",
              "       [143, 252, 1778, 232, 127, 1, 40, 307, 1464, 114, 2970, 86, 7514],\n",
              "       [62, 133, 255, 44, 57, 0, 17, 116, 429, 38, 2930, 3053, 7134],\n",
              "       [240, 917, 1720, 384, 473, 1, 65, 637, 2528, 529, 18068, 347,\n",
              "        25909],\n",
              "       [79, 232, 466, 158, 217, 4, 62, 95, 1859, 500, 1827, 85, 5584],\n",
              "       [92, 253, 847, 123, 87, 0, 21, 247, 685, 80, 1126, 61, 3622],\n",
              "       [165, 121, 1227, 139, 65, 0, 33, 119, 924, 94, 1468, 84, 4439],\n",
              "       [649, 1102, 3540, 936, 1113, 28, 243, 1227, 7935, 999, 37271, 771,\n",
              "        55814],\n",
              "       [47, 191, 334, 77, 73, 0, 20, 165, 533, 141, 474, 105, 2160],\n",
              "       [39, 106, 250, 53, 43, 0, 11, 109, 361, 113, 388, 18, 1491],\n",
              "       [207, 269, 1344, 250, 228, 2, 39, 340, 1678, 197, 1756, 293, 6603],\n",
              "       [145, 359, 1017, 275, 192, 2, 49, 481, 1557, 183, 2986, 162, 7408],\n",
              "       [18, 50, 241, 53, 18, 0, 6, 43, 178, 48, 330, 14, 999],\n",
              "       [246, 461, 2437, 449, 276, 8, 96, 786, 3046, 289, 2906, 3744,\n",
              "        14744],\n",
              "       [336, 814, 3187, 746, 1159, 30, 243, 687, 6209, 1211, 8009, 997,\n",
              "        23628],\n",
              "       [86, 170, 1394, 197, 113, 0, 25, 44, 741, 88, 1980, 24, 4862],\n",
              "       [114, 110, 855, 163, 66, 0, 24, 142, 449, 39, 3699, 29, 5690],\n",
              "       [140, 310, 1431, 187, 128, 1, 44, 85, 923, 56, 4117, 138, 7560],\n",
              "       [5659, 11174, 47014, 9965, 8103, 168, 2148, 10695, 75908, 10824,\n",
              "        189581, 22778, 394017]], dtype=object)"
            ]
          },
          "metadata": {},
          "execution_count": 8
        }
      ]
    },
    {
      "cell_type": "code",
      "source": [
        "y"
      ],
      "metadata": {
        "colab": {
          "base_uri": "https://localhost:8080/"
        },
        "id": "0bVAch5fGFk8",
        "outputId": "152d4f77-9eb2-4904-b239-5689adcbce0b"
      },
      "execution_count": null,
      "outputs": [
        {
          "output_type": "execute_result",
          "data": {
            "text/plain": [
              "array([['Latitude', 'Longitude'],\n",
              "       [19.0948287, 74.7479789],\n",
              "       [20.7002159, 77.0081678],\n",
              "       [20.9319821, 77.7523039],\n",
              "       [19.8761653, 75.3433139],\n",
              "       [18.990088, 75.7531324],\n",
              "       [21.177658, 79.6570127],\n",
              "       [20.5292147, 76.1841701],\n",
              "       [19.9615398, 79.2961468],\n",
              "       [20.9042201, 74.7748979],\n",
              "       [20.184871, 79.9947956],\n",
              "       [21.4549477, 80.1960712],\n",
              "       [19.7173703, 77.1493722],\n",
              "       [21.0076578, 75.5626039],\n",
              "       [19.8346659, 75.8816345],\n",
              "       [16.7049873, 74.2432527],\n",
              "       [18.4087934, 76.5603828],\n",
              "       [19.0759837, 72.8776559],\n",
              "       [19.1538231, 72.8751786],\n",
              "       [21.1458004, 79.0881546],\n",
              "       [19.1382514, 77.3209555],\n",
              "       [21.7468548, 74.123996],\n",
              "       [19.9974533, 73.7898023],\n",
              "       [18.185332, 76.0419642],\n",
              "       [19.2608384, 76.774776],\n",
              "       [18.5204303, 73.8567437],\n",
              "       [18.2376278, 73.4445392],\n",
              "       [16.990215, 73.3120233],\n",
              "       [16.8523973, 74.5814773],\n",
              "       [17.6804639, 74.018261],\n",
              "       [16.3492193, 73.5594128],\n",
              "       [17.6599188, 75.9063906],\n",
              "       [19.2183307, 72.9780897],\n",
              "       [20.745319, 78.6021946],\n",
              "       [20.1119123, 77.1312586],\n",
              "       [20.3899385, 78.1306846],\n",
              "       [nan, nan]], dtype=object)"
            ]
          },
          "metadata": {},
          "execution_count": 9
        }
      ]
    },
    {
      "cell_type": "markdown",
      "source": [
        "# Splitting the dataset into training and test set  "
      ],
      "metadata": {
        "id": "oTycOo5bE9y8"
      }
    },
    {
      "cell_type": "code",
      "source": [
        "from sklearn.model_selection import train_test_split  \n",
        "x_train, x_test, y_train, y_test= train_test_split(x, y, test_size= 0.25, random_state=0) "
      ],
      "metadata": {
        "id": "XUSdf14pE9U9"
      },
      "execution_count": null,
      "outputs": []
    },
    {
      "cell_type": "code",
      "source": [
        "x_train"
      ],
      "metadata": {
        "colab": {
          "base_uri": "https://localhost:8080/"
        },
        "id": "_Yu0tK55GD9V",
        "outputId": "ff7368f3-7585-481c-d0df-4b33bc8ffd2e"
      },
      "execution_count": null,
      "outputs": [
        {
          "output_type": "execute_result",
          "data": {
            "text/plain": [
              "array([[18, 50, 241, 53, 18, 0, 6, 43, 178, 48, 330, 14, 999],\n",
              "       [336, 814, 3187, 746, 1159, 30, 243, 687, 6209, 1211, 8009, 997,\n",
              "        23628],\n",
              "       [5659, 11174, 47014, 9965, 8103, 168, 2148, 10695, 75908, 10824,\n",
              "        189581, 22778, 394017],\n",
              "       [114, 110, 855, 163, 66, 0, 24, 142, 449, 39, 3699, 29, 5690],\n",
              "       [145, 359, 1017, 275, 192, 2, 49, 481, 1557, 183, 2986, 162, 7408],\n",
              "       [86, 170, 1394, 197, 113, 0, 25, 44, 741, 88, 1980, 24, 4862],\n",
              "       [105, 234, 1147, 194, 152, 1, 46, 84, 980, 108, 2235, 355, 5641],\n",
              "       [192, 439, 901, 259, 187, 0, 34, 440, 2045, 248, 4353, 256, 9354],\n",
              "       [206, 308, 1233, 248, 91, 0, 50, 508, 1002, 104, 1858, 111, 5719],\n",
              "       [521, 349, 4171, 1553, 1180, 58, 331, 392, 17530, 3425, 19788,\n",
              "        9146, 58444],\n",
              "       [133, 209, 1436, 208, 100, 0, 36, 411, 1618, 170, 1164, 770, 6255],\n",
              "       [122, 293, 2099, 313, 110, 0, 36, 320, 1269, 102, 3024, 104, 7792],\n",
              "       [39, 106, 250, 53, 43, 0, 11, 109, 361, 113, 388, 18, 1491],\n",
              "       [254, 620, 1826, 543, 369, 0, 92, 905, 3104, 220, 30535, 221,\n",
              "        38689],\n",
              "       [75, 119, 649, 73, 27, 0, 15, 140, 436, 35, 1314, 30, 2913],\n",
              "       [47, 191, 334, 77, 73, 0, 20, 165, 533, 141, 474, 105, 2160],\n",
              "       [165, 121, 1227, 139, 65, 0, 33, 119, 924, 94, 1468, 84, 4439],\n",
              "       [41, 141, 486, 88, 71, 0, 16, 43, 676, 60, 1051, 54, 2727],\n",
              "       [92, 253, 847, 123, 87, 0, 21, 247, 685, 80, 1126, 61, 3622],\n",
              "       [139, 386, 1869, 335, 242, 0, 80, 428, 3821, 265, 4292, 411,\n",
              "        12268],\n",
              "       [299, 581, 2252, 386, 442, 13, 120, 199, 4980, 568, 9647, 312,\n",
              "        19799],\n",
              "       [240, 917, 1720, 384, 473, 1, 65, 637, 2528, 529, 18068, 347,\n",
              "        25909],\n",
              "       [143, 252, 1778, 232, 127, 1, 40, 307, 1464, 114, 2970, 86, 7514],\n",
              "       [84, 352, 433, 80, 98, 1, 14, 205, 781, 77, 1237, 175, 3537],\n",
              "       [140, 310, 1431, 187, 128, 1, 44, 85, 923, 56, 4117, 138, 7560],\n",
              "       [201, 354, 2133, 461, 190, 0, 97, 144, 2198, 250, 3921, 164,\n",
              "        10113],\n",
              "       ['Homicide', 'Causing death by negligence', 'Hurt',\n",
              "        'Assault on woman', 'Kidnapping and abduction',\n",
              "        'Human trafficking ', 'Rape',\n",
              "        'Offence against public tranquility',\n",
              "        'Offences against property',\n",
              "        'Offences relating to documents and property marks',\n",
              "        'Miscellaneous', 'Others', 'Total']], dtype=object)"
            ]
          },
          "metadata": {},
          "execution_count": 12
        }
      ]
    },
    {
      "cell_type": "code",
      "source": [
        "x_test"
      ],
      "metadata": {
        "colab": {
          "base_uri": "https://localhost:8080/"
        },
        "id": "MX7MZWcRHalg",
        "outputId": "56628b82-958f-423a-8d19-ba7cacf40a08"
      },
      "execution_count": null,
      "outputs": [
        {
          "output_type": "execute_result",
          "data": {
            "text/plain": [
              "array([[79, 232, 466, 158, 217, 4, 62, 95, 1859, 500, 1827, 85, 5584],\n",
              "       [62, 133, 255, 44, 57, 0, 17, 116, 429, 38, 2930, 3053, 7134],\n",
              "       [104, 244, 1077, 138, 111, 3, 26, 303, 964, 94, 2000, 82, 5146],\n",
              "       [65, 135, 303, 55, 32, 0, 17, 21, 302, 41, 427, 27, 1425],\n",
              "       [246, 461, 2437, 449, 276, 8, 96, 786, 3046, 289, 2906, 3744,\n",
              "        14744],\n",
              "       [207, 269, 1344, 250, 228, 2, 39, 340, 1678, 197, 1756, 293, 6603],\n",
              "       [146, 313, 1020, 263, 150, 15, 54, 388, 1357, 222, 5190, 202,\n",
              "        9320],\n",
              "       [50, 131, 311, 57, 40, 0, 18, 23, 400, 30, 996, 134, 2190],\n",
              "       [114, 116, 1345, 245, 76, 0, 28, 111, 946, 86, 4244, 213, 7524],\n",
              "       [649, 1102, 3540, 936, 1113, 28, 243, 1227, 7935, 999, 37271, 771,\n",
              "        55814]], dtype=object)"
            ]
          },
          "metadata": {},
          "execution_count": 13
        }
      ]
    },
    {
      "cell_type": "code",
      "source": [
        "y_train"
      ],
      "metadata": {
        "colab": {
          "base_uri": "https://localhost:8080/"
        },
        "id": "qGvrvtSJHemA",
        "outputId": "a53e2646-1b17-4244-c847-21200f79b101"
      },
      "execution_count": null,
      "outputs": [
        {
          "output_type": "execute_result",
          "data": {
            "text/plain": [
              "array([[16.3492193, 73.5594128],\n",
              "       [19.2183307, 72.9780897],\n",
              "       [nan, nan],\n",
              "       [20.1119123, 77.1312586],\n",
              "       [17.6804639, 74.018261],\n",
              "       [20.745319, 78.6021946],\n",
              "       [19.9615398, 79.2961468],\n",
              "       [21.0076578, 75.5626039],\n",
              "       [18.990088, 75.7531324],\n",
              "       [19.0759837, 72.8776559],\n",
              "       [19.8346659, 75.8816345],\n",
              "       [20.5292147, 76.1841701],\n",
              "       [16.990215, 73.3120233],\n",
              "       [19.0948287, 74.7479789],\n",
              "       [19.7173703, 77.1493722],\n",
              "       [18.2376278, 73.4445392],\n",
              "       [19.2608384, 76.774776],\n",
              "       [21.177658, 79.6570127],\n",
              "       [18.185332, 76.0419642],\n",
              "       [19.8761653, 75.3433139],\n",
              "       [19.1538231, 72.8751786],\n",
              "       [21.7468548, 74.123996],\n",
              "       [21.1458004, 79.0881546],\n",
              "       [20.9042201, 74.7748979],\n",
              "       [20.3899385, 78.1306846],\n",
              "       [20.9319821, 77.7523039],\n",
              "       ['Latitude', 'Longitude']], dtype=object)"
            ]
          },
          "metadata": {},
          "execution_count": 14
        }
      ]
    },
    {
      "cell_type": "code",
      "source": [
        "y_test"
      ],
      "metadata": {
        "colab": {
          "base_uri": "https://localhost:8080/"
        },
        "id": "jA3ospgRHjQB",
        "outputId": "7603b511-d05f-4dbc-ab38-47ea1d7701a0"
      },
      "execution_count": null,
      "outputs": [
        {
          "output_type": "execute_result",
          "data": {
            "text/plain": [
              "array([[19.9974533, 73.7898023],\n",
              "       [19.1382514, 77.3209555],\n",
              "       [18.4087934, 76.5603828],\n",
              "       [20.184871, 79.9947956],\n",
              "       [17.6599188, 75.9063906],\n",
              "       [16.8523973, 74.5814773],\n",
              "       [16.7049873, 74.2432527],\n",
              "       [21.4549477, 80.1960712],\n",
              "       [20.7002159, 77.0081678],\n",
              "       [18.5204303, 73.8567437]], dtype=object)"
            ]
          },
          "metadata": {},
          "execution_count": 15
        }
      ]
    },
    {
      "cell_type": "markdown",
      "source": [
        "# Fitting K-NN classifier to the training set  "
      ],
      "metadata": {
        "id": "LzRhSx9yJNsl"
      }
    },
    {
      "cell_type": "code",
      "source": [
        "from sklearn.neighbors import KNeighborsClassifier\n",
        "knn = KNeighborsClassifier(n_neighbors=10)\n",
        "knn.fit(x_train,y_train) "
      ],
      "metadata": {
        "colab": {
          "base_uri": "https://localhost:8080/",
          "height": 363
        },
        "id": "W8gPDNdCJI0s",
        "outputId": "a6d1b82c-388e-494b-9896-cb8617e07d02"
      },
      "execution_count": null,
      "outputs": [
        {
          "output_type": "error",
          "ename": "ValueError",
          "evalue": "ignored",
          "traceback": [
            "\u001b[0;31m---------------------------------------------------------------------------\u001b[0m",
            "\u001b[0;31mValueError\u001b[0m                                Traceback (most recent call last)",
            "\u001b[0;32m<ipython-input-17-7197d45d1985>\u001b[0m in \u001b[0;36m<module>\u001b[0;34m\u001b[0m\n\u001b[1;32m      1\u001b[0m \u001b[0;32mfrom\u001b[0m \u001b[0msklearn\u001b[0m\u001b[0;34m.\u001b[0m\u001b[0mneighbors\u001b[0m \u001b[0;32mimport\u001b[0m \u001b[0mKNeighborsClassifier\u001b[0m\u001b[0;34m\u001b[0m\u001b[0;34m\u001b[0m\u001b[0m\n\u001b[1;32m      2\u001b[0m \u001b[0mknn\u001b[0m \u001b[0;34m=\u001b[0m \u001b[0mKNeighborsClassifier\u001b[0m\u001b[0;34m(\u001b[0m\u001b[0mn_neighbors\u001b[0m\u001b[0;34m=\u001b[0m\u001b[0;36m10\u001b[0m\u001b[0;34m)\u001b[0m\u001b[0;34m\u001b[0m\u001b[0;34m\u001b[0m\u001b[0m\n\u001b[0;32m----> 3\u001b[0;31m \u001b[0mknn\u001b[0m\u001b[0;34m.\u001b[0m\u001b[0mfit\u001b[0m\u001b[0;34m(\u001b[0m\u001b[0mx_train\u001b[0m\u001b[0;34m,\u001b[0m\u001b[0my_train\u001b[0m\u001b[0;34m)\u001b[0m\u001b[0;34m\u001b[0m\u001b[0;34m\u001b[0m\u001b[0m\n\u001b[0m",
            "\u001b[0;32m/usr/local/lib/python3.7/dist-packages/sklearn/neighbors/_classification.py\u001b[0m in \u001b[0;36mfit\u001b[0;34m(self, X, y)\u001b[0m\n\u001b[1;32m    196\u001b[0m         \u001b[0mself\u001b[0m\u001b[0;34m.\u001b[0m\u001b[0mweights\u001b[0m \u001b[0;34m=\u001b[0m \u001b[0m_check_weights\u001b[0m\u001b[0;34m(\u001b[0m\u001b[0mself\u001b[0m\u001b[0;34m.\u001b[0m\u001b[0mweights\u001b[0m\u001b[0;34m)\u001b[0m\u001b[0;34m\u001b[0m\u001b[0;34m\u001b[0m\u001b[0m\n\u001b[1;32m    197\u001b[0m \u001b[0;34m\u001b[0m\u001b[0m\n\u001b[0;32m--> 198\u001b[0;31m         \u001b[0;32mreturn\u001b[0m \u001b[0mself\u001b[0m\u001b[0;34m.\u001b[0m\u001b[0m_fit\u001b[0m\u001b[0;34m(\u001b[0m\u001b[0mX\u001b[0m\u001b[0;34m,\u001b[0m \u001b[0my\u001b[0m\u001b[0;34m)\u001b[0m\u001b[0;34m\u001b[0m\u001b[0;34m\u001b[0m\u001b[0m\n\u001b[0m\u001b[1;32m    199\u001b[0m \u001b[0;34m\u001b[0m\u001b[0m\n\u001b[1;32m    200\u001b[0m     \u001b[0;32mdef\u001b[0m \u001b[0mpredict\u001b[0m\u001b[0;34m(\u001b[0m\u001b[0mself\u001b[0m\u001b[0;34m,\u001b[0m \u001b[0mX\u001b[0m\u001b[0;34m)\u001b[0m\u001b[0;34m:\u001b[0m\u001b[0;34m\u001b[0m\u001b[0;34m\u001b[0m\u001b[0m\n",
            "\u001b[0;32m/usr/local/lib/python3.7/dist-packages/sklearn/neighbors/_base.py\u001b[0m in \u001b[0;36m_fit\u001b[0;34m(self, X, y)\u001b[0m\n\u001b[1;32m    398\u001b[0m         \u001b[0;32mif\u001b[0m \u001b[0mself\u001b[0m\u001b[0;34m.\u001b[0m\u001b[0m_get_tags\u001b[0m\u001b[0;34m(\u001b[0m\u001b[0;34m)\u001b[0m\u001b[0;34m[\u001b[0m\u001b[0;34m\"requires_y\"\u001b[0m\u001b[0;34m]\u001b[0m\u001b[0;34m:\u001b[0m\u001b[0;34m\u001b[0m\u001b[0;34m\u001b[0m\u001b[0m\n\u001b[1;32m    399\u001b[0m             \u001b[0;32mif\u001b[0m \u001b[0;32mnot\u001b[0m \u001b[0misinstance\u001b[0m\u001b[0;34m(\u001b[0m\u001b[0mX\u001b[0m\u001b[0;34m,\u001b[0m \u001b[0;34m(\u001b[0m\u001b[0mKDTree\u001b[0m\u001b[0;34m,\u001b[0m \u001b[0mBallTree\u001b[0m\u001b[0;34m,\u001b[0m \u001b[0mNeighborsBase\u001b[0m\u001b[0;34m)\u001b[0m\u001b[0;34m)\u001b[0m\u001b[0;34m:\u001b[0m\u001b[0;34m\u001b[0m\u001b[0;34m\u001b[0m\u001b[0m\n\u001b[0;32m--> 400\u001b[0;31m                 \u001b[0mX\u001b[0m\u001b[0;34m,\u001b[0m \u001b[0my\u001b[0m \u001b[0;34m=\u001b[0m \u001b[0mself\u001b[0m\u001b[0;34m.\u001b[0m\u001b[0m_validate_data\u001b[0m\u001b[0;34m(\u001b[0m\u001b[0mX\u001b[0m\u001b[0;34m,\u001b[0m \u001b[0my\u001b[0m\u001b[0;34m,\u001b[0m \u001b[0maccept_sparse\u001b[0m\u001b[0;34m=\u001b[0m\u001b[0;34m\"csr\"\u001b[0m\u001b[0;34m,\u001b[0m \u001b[0mmulti_output\u001b[0m\u001b[0;34m=\u001b[0m\u001b[0;32mTrue\u001b[0m\u001b[0;34m)\u001b[0m\u001b[0;34m\u001b[0m\u001b[0;34m\u001b[0m\u001b[0m\n\u001b[0m\u001b[1;32m    401\u001b[0m \u001b[0;34m\u001b[0m\u001b[0m\n\u001b[1;32m    402\u001b[0m             \u001b[0;32mif\u001b[0m \u001b[0mis_classifier\u001b[0m\u001b[0;34m(\u001b[0m\u001b[0mself\u001b[0m\u001b[0;34m)\u001b[0m\u001b[0;34m:\u001b[0m\u001b[0;34m\u001b[0m\u001b[0;34m\u001b[0m\u001b[0m\n",
            "\u001b[0;32m/usr/local/lib/python3.7/dist-packages/sklearn/base.py\u001b[0m in \u001b[0;36m_validate_data\u001b[0;34m(self, X, y, reset, validate_separately, **check_params)\u001b[0m\n\u001b[1;32m    579\u001b[0m                 \u001b[0my\u001b[0m \u001b[0;34m=\u001b[0m \u001b[0mcheck_array\u001b[0m\u001b[0;34m(\u001b[0m\u001b[0my\u001b[0m\u001b[0;34m,\u001b[0m \u001b[0;34m**\u001b[0m\u001b[0mcheck_y_params\u001b[0m\u001b[0;34m)\u001b[0m\u001b[0;34m\u001b[0m\u001b[0;34m\u001b[0m\u001b[0m\n\u001b[1;32m    580\u001b[0m             \u001b[0;32melse\u001b[0m\u001b[0;34m:\u001b[0m\u001b[0;34m\u001b[0m\u001b[0;34m\u001b[0m\u001b[0m\n\u001b[0;32m--> 581\u001b[0;31m                 \u001b[0mX\u001b[0m\u001b[0;34m,\u001b[0m \u001b[0my\u001b[0m \u001b[0;34m=\u001b[0m \u001b[0mcheck_X_y\u001b[0m\u001b[0;34m(\u001b[0m\u001b[0mX\u001b[0m\u001b[0;34m,\u001b[0m \u001b[0my\u001b[0m\u001b[0;34m,\u001b[0m \u001b[0;34m**\u001b[0m\u001b[0mcheck_params\u001b[0m\u001b[0;34m)\u001b[0m\u001b[0;34m\u001b[0m\u001b[0;34m\u001b[0m\u001b[0m\n\u001b[0m\u001b[1;32m    582\u001b[0m             \u001b[0mout\u001b[0m \u001b[0;34m=\u001b[0m \u001b[0mX\u001b[0m\u001b[0;34m,\u001b[0m \u001b[0my\u001b[0m\u001b[0;34m\u001b[0m\u001b[0;34m\u001b[0m\u001b[0m\n\u001b[1;32m    583\u001b[0m \u001b[0;34m\u001b[0m\u001b[0m\n",
            "\u001b[0;32m/usr/local/lib/python3.7/dist-packages/sklearn/utils/validation.py\u001b[0m in \u001b[0;36mcheck_X_y\u001b[0;34m(X, y, accept_sparse, accept_large_sparse, dtype, order, copy, force_all_finite, ensure_2d, allow_nd, multi_output, ensure_min_samples, ensure_min_features, y_numeric, estimator)\u001b[0m\n\u001b[1;32m    974\u001b[0m         \u001b[0mensure_min_samples\u001b[0m\u001b[0;34m=\u001b[0m\u001b[0mensure_min_samples\u001b[0m\u001b[0;34m,\u001b[0m\u001b[0;34m\u001b[0m\u001b[0;34m\u001b[0m\u001b[0m\n\u001b[1;32m    975\u001b[0m         \u001b[0mensure_min_features\u001b[0m\u001b[0;34m=\u001b[0m\u001b[0mensure_min_features\u001b[0m\u001b[0;34m,\u001b[0m\u001b[0;34m\u001b[0m\u001b[0;34m\u001b[0m\u001b[0m\n\u001b[0;32m--> 976\u001b[0;31m         \u001b[0mestimator\u001b[0m\u001b[0;34m=\u001b[0m\u001b[0mestimator\u001b[0m\u001b[0;34m,\u001b[0m\u001b[0;34m\u001b[0m\u001b[0;34m\u001b[0m\u001b[0m\n\u001b[0m\u001b[1;32m    977\u001b[0m     )\n\u001b[1;32m    978\u001b[0m \u001b[0;34m\u001b[0m\u001b[0m\n",
            "\u001b[0;32m/usr/local/lib/python3.7/dist-packages/sklearn/utils/validation.py\u001b[0m in \u001b[0;36mcheck_array\u001b[0;34m(array, accept_sparse, accept_large_sparse, dtype, order, copy, force_all_finite, ensure_2d, allow_nd, ensure_min_samples, ensure_min_features, estimator)\u001b[0m\n\u001b[1;32m    744\u001b[0m                     \u001b[0marray\u001b[0m \u001b[0;34m=\u001b[0m \u001b[0marray\u001b[0m\u001b[0;34m.\u001b[0m\u001b[0mastype\u001b[0m\u001b[0;34m(\u001b[0m\u001b[0mdtype\u001b[0m\u001b[0;34m,\u001b[0m \u001b[0mcasting\u001b[0m\u001b[0;34m=\u001b[0m\u001b[0;34m\"unsafe\"\u001b[0m\u001b[0;34m,\u001b[0m \u001b[0mcopy\u001b[0m\u001b[0;34m=\u001b[0m\u001b[0;32mFalse\u001b[0m\u001b[0;34m)\u001b[0m\u001b[0;34m\u001b[0m\u001b[0;34m\u001b[0m\u001b[0m\n\u001b[1;32m    745\u001b[0m                 \u001b[0;32melse\u001b[0m\u001b[0;34m:\u001b[0m\u001b[0;34m\u001b[0m\u001b[0;34m\u001b[0m\u001b[0m\n\u001b[0;32m--> 746\u001b[0;31m                     \u001b[0marray\u001b[0m \u001b[0;34m=\u001b[0m \u001b[0mnp\u001b[0m\u001b[0;34m.\u001b[0m\u001b[0masarray\u001b[0m\u001b[0;34m(\u001b[0m\u001b[0marray\u001b[0m\u001b[0;34m,\u001b[0m \u001b[0morder\u001b[0m\u001b[0;34m=\u001b[0m\u001b[0morder\u001b[0m\u001b[0;34m,\u001b[0m \u001b[0mdtype\u001b[0m\u001b[0;34m=\u001b[0m\u001b[0mdtype\u001b[0m\u001b[0;34m)\u001b[0m\u001b[0;34m\u001b[0m\u001b[0;34m\u001b[0m\u001b[0m\n\u001b[0m\u001b[1;32m    747\u001b[0m             \u001b[0;32mexcept\u001b[0m \u001b[0mComplexWarning\u001b[0m \u001b[0;32mas\u001b[0m \u001b[0mcomplex_warning\u001b[0m\u001b[0;34m:\u001b[0m\u001b[0;34m\u001b[0m\u001b[0;34m\u001b[0m\u001b[0m\n\u001b[1;32m    748\u001b[0m                 raise ValueError(\n",
            "\u001b[0;31mValueError\u001b[0m: could not convert string to float: 'Homicide'"
          ]
        }
      ]
    }
  ]
}