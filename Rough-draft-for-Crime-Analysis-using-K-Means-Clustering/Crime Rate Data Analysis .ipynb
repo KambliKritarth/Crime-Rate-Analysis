{
 "cells": [
  {
   "cell_type": "code",
   "execution_count": 1,
   "id": "967f5080",
   "metadata": {},
   "outputs": [],
   "source": [
    "import numpy as np\n",
    "import pandas as pd\n",
    "import matplotlib.pyplot as plt"
   ]
  },
  {
   "cell_type": "code",
   "execution_count": 3,
   "id": "1c982226",
   "metadata": {},
   "outputs": [],
   "source": [
    "dataset=pd.read_csv('crimedata.csv')"
   ]
  },
  {
   "cell_type": "code",
   "execution_count": 4,
   "id": "ee687b07",
   "metadata": {},
   "outputs": [
    {
     "name": "stdout",
     "output_type": "stream",
     "text": [
      "   State               Offence category  \\\n",
      "0    NSW                       Homicide   \n",
      "1    NSW                       Homicide   \n",
      "2    NSW                       Homicide   \n",
      "3    NSW                       Homicide   \n",
      "4    NSW                        Assault   \n",
      "..   ...                            ...   \n",
      "57   NSW     Against justice procedures   \n",
      "58   NSW     Against justice procedures   \n",
      "59   NSW     Against justice procedures   \n",
      "60   NSW  Transport regulatory offences   \n",
      "61   NSW                 Other offences   \n",
      "\n",
      "                                  Subcategory 2016 population 2017 population  \\\n",
      "0                                    Murder *       7,739,274       7,739,274   \n",
      "1                            Attempted murder       7,739,274       7,739,274   \n",
      "2                Murder accessory, conspiracy       7,739,274       7,739,274   \n",
      "3                              Manslaughter *       7,739,274       7,739,274   \n",
      "4           Domestic violence related assault       7,739,274       7,739,274   \n",
      "..                                        ...             ...             ...   \n",
      "57                             Fail to appear       7,739,274       7,739,274   \n",
      "58                   Resist or hinder officer       7,739,274       7,739,274   \n",
      "59  Other offences against justice procedures       7,739,274       7,739,274   \n",
      "60                                        NaN       7,739,274       7,739,274   \n",
      "61                                        NaN       7,739,274       7,739,274   \n",
      "\n",
      "    Jan 1995  Feb 1995  Mar 1995  Apr 1995  May 1995  ...  Mar 2017  Apr 2017  \\\n",
      "0          9        11        10        11         7  ...         5         4   \n",
      "1          1         3         4         6         5  ...         4         2   \n",
      "2          0         2         0         0         2  ...         1         0   \n",
      "3          0         2         1         2         1  ...         0         0   \n",
      "4        613       591       625       640       602  ...      2513      2205   \n",
      "..       ...       ...       ...       ...       ...  ...       ...       ...   \n",
      "57       141       143       135       121       158  ...        45        53   \n",
      "58       397       347       338       322       289  ...       479       526   \n",
      "59       301       294       387       304       386  ...        65        53   \n",
      "60        40        57        57        53        86  ...     11513     10342   \n",
      "61       596       516       560       492       616  ...      1094      1195   \n",
      "\n",
      "    May 2017  Jun 2017  Jul 2017  Aug 2017  Sep 2017  Oct 2017  Nov 2017  \\\n",
      "0          2         8         4         4         5         1         2   \n",
      "1          1         1         3         1         1         0         2   \n",
      "2          0         0         1         0         1         0         0   \n",
      "3          1         1         1         1         1         1         0   \n",
      "4       2131      2069      2028      2065      2239      2497      2384   \n",
      "..       ...       ...       ...       ...       ...       ...       ...   \n",
      "57        68        41        44        38        39        41        38   \n",
      "58       420       465       475       431       490       556       463   \n",
      "59        48        63        47        41        27        39        47   \n",
      "60     12278     11125     10510     11046     10098     10749     10388   \n",
      "61      1075      1083      1014      1071      1077      1277      1274   \n",
      "\n",
      "    Dec 2017  \n",
      "0          4  \n",
      "1          2  \n",
      "2          0  \n",
      "3          0  \n",
      "4       2898  \n",
      "..       ...  \n",
      "57        34  \n",
      "58       683  \n",
      "59        45  \n",
      "60     10432  \n",
      "61      1431  \n",
      "\n",
      "[62 rows x 281 columns]\n"
     ]
    }
   ],
   "source": [
    "print(dataset)"
   ]
  },
  {
   "cell_type": "code",
   "execution_count": 5,
   "id": "24c10a00",
   "metadata": {},
   "outputs": [
    {
     "name": "stdout",
     "output_type": "stream",
     "text": [
      "          Jan 1995     Feb 1995     Mar 1995     Apr 1995     May 1995  \\\n",
      "count    62.000000    62.000000    62.000000    62.000000    62.000000   \n",
      "mean    708.580645   644.080645   715.403226   657.322581   680.080645   \n",
      "std    1370.853911  1227.628853  1346.061108  1237.159859  1293.323769   \n",
      "min       0.000000     0.000000     0.000000     0.000000     0.000000   \n",
      "25%      22.000000    18.500000    25.750000    22.500000    20.750000   \n",
      "50%     172.500000   140.500000   153.000000   160.500000   143.500000   \n",
      "75%     417.000000   416.000000   469.500000   422.750000   453.500000   \n",
      "max    6183.000000  5352.000000  5754.000000  5531.000000  5742.000000   \n",
      "\n",
      "          Jun 1995     Jul 1995     Aug 1995     Sep 1995     Oct 1995  ...  \\\n",
      "count    62.000000    62.000000    62.000000    62.000000    62.000000  ...   \n",
      "mean    670.838710   693.064516   727.048387   732.338710   788.274194  ...   \n",
      "std    1282.058248  1351.772799  1394.149467  1430.292277  1545.542880  ...   \n",
      "min       0.000000     0.000000     0.000000     0.000000     0.000000  ...   \n",
      "25%      16.250000    21.250000    23.000000    23.250000    22.250000  ...   \n",
      "50%     134.500000   149.500000   147.500000   147.000000   169.000000  ...   \n",
      "75%     489.000000   485.750000   546.000000   547.500000   513.250000  ...   \n",
      "max    5611.000000  6228.000000  5794.000000  6163.000000  6869.000000  ...   \n",
      "\n",
      "           Mar 2017      Apr 2017      May 2017      Jun 2017      Jul 2017  \\\n",
      "count     62.000000     62.000000     62.000000     62.000000     62.000000   \n",
      "mean    1008.887097    930.241935    981.274194    921.032258    903.903226   \n",
      "std     1812.585755   1652.113020   1857.381156   1708.835160   1623.923207   \n",
      "min        0.000000      0.000000      0.000000      0.000000      1.000000   \n",
      "25%       53.250000     34.750000     52.000000     41.250000     44.250000   \n",
      "50%      324.000000    274.000000    255.000000    233.000000    333.500000   \n",
      "75%     1082.250000   1075.750000   1072.000000   1027.000000   1038.750000   \n",
      "max    11513.000000  10342.000000  12278.000000  11125.000000  10510.000000   \n",
      "\n",
      "           Aug 2017      Sep 2017      Oct 2017      Nov 2017      Dec 2017  \n",
      "count     62.000000     62.000000     62.000000     62.000000     62.000000  \n",
      "mean     916.548387    905.741935    987.322581    963.629032    991.774194  \n",
      "std     1694.806490   1603.683863   1734.333318   1679.587666   1688.965300  \n",
      "min        0.000000      1.000000      0.000000      0.000000      0.000000  \n",
      "25%       38.000000     30.750000     41.750000     39.500000     33.250000  \n",
      "50%      232.500000    302.500000    258.500000    305.000000    386.000000  \n",
      "75%     1015.000000   1013.000000   1144.750000   1092.500000   1268.000000  \n",
      "max    11046.000000  10098.000000  10749.000000  10388.000000  10432.000000  \n",
      "\n",
      "[8 rows x 276 columns]\n"
     ]
    }
   ],
   "source": [
    "print(dataset.describe())"
   ]
  },
  {
   "cell_type": "code",
   "execution_count": 6,
   "id": "87c49b5b",
   "metadata": {},
   "outputs": [],
   "source": [
    "X = dataset.iloc[:,5:].values"
   ]
  },
  {
   "cell_type": "code",
   "execution_count": 7,
   "id": "bae67773",
   "metadata": {},
   "outputs": [],
   "source": [
    "from sklearn.cluster import KMeans"
   ]
  },
  {
   "cell_type": "code",
   "execution_count": 10,
   "id": "e8e52492",
   "metadata": {},
   "outputs": [
    {
     "name": "stderr",
     "output_type": "stream",
     "text": [
      "C:\\Users\\home\\AppData\\Roaming\\Python\\Python38\\site-packages\\sklearn\\cluster\\_kmeans.py:1036: UserWarning: KMeans is known to have a memory leak on Windows with MKL, when there are less chunks than available threads. You can avoid it by setting the environment variable OMP_NUM_THREADS=1.\n",
      "  warnings.warn(\n"
     ]
    }
   ],
   "source": [
    "cds = []\n",
    "for i in range(1,11):\n",
    "    kmeans=KMeans(n_clusters=i, init='k-means++',random_state=0)\n",
    "    kmeans.fit(X)\n",
    "    cds.append(kmeans.inertia_)"
   ]
  },
  {
   "cell_type": "code",
   "execution_count": 12,
   "id": "fec6ee61",
   "metadata": {},
   "outputs": [
    {
     "data": {
      "image/png": "[encoded data removed]",
      "text/plain": [
       "<Figure size 432x288 with 1 Axes>"
      ]
     },
     "metadata": {
      "needs_background": "light"
     },
     "output_type": "display_data"
    }
   ],
   "source": [
    "plt.plot(range(1,11),cds)\n",
    "plt.title('The Elbow Method')\n",
    "plt.xlabel('Number of Clusters')\n",
    "plt.ylabel('CDS')\n",
    "plt.show()"
   ]
  },
  {
   "cell_type": "code",
   "execution_count": 15,
   "id": "746d9df6",
   "metadata": {},
   "outputs": [],
   "source": [
    "kmeans=KMeans(n_clusters=2,init='k-means++',random_state=0)\n",
    "y_kmeans=kmeans.fit_predict(X)"
   ]
  },
  {
   "cell_type": "code",
   "execution_count": 17,
   "id": "bcfb204f",
   "metadata": {},
   "outputs": [
    {
     "data": {
      "text/plain": [
       "<matplotlib.collections.PathCollection at 0x1c29f7b51c0>"
      ]
     },
     "execution_count": 17,
     "metadata": {},
     "output_type": "execute_result"
    },
    {
     "data": {
      "image/png": "[encoded data removed]",
      "text/plain": [
       "<Figure size 432x288 with 1 Axes>"
      ]
     },
     "metadata": {
      "needs_background": "light"
     },
     "output_type": "display_data"
    }
   ],
   "source": [
    "plt.scatter(X[y_kmeans==0,0],X[y_kmeans==0,1],s=100,c='red',label='Cluster1')\n",
    "plt.scatter(X[y_kmeans==1,0],X[y_kmeans==1,1],s=100,c='blue',label='Cluster2')\n"
   ]
  },
  {
   "cell_type": "code",
   "execution_count": 18,
   "id": "f10f8734",
   "metadata": {},
   "outputs": [
    {
     "data": {
      "text/plain": [
       "<matplotlib.collections.PathCollection at 0x1c29f806700>"
      ]
     },
     "execution_count": 18,
     "metadata": {},
     "output_type": "execute_result"
    },
    {
     "data": {
      "image/png": "[encoded data removed]",
      "text/plain": [
       "<Figure size 432x288 with 1 Axes>"
      ]
     },
     "metadata": {
      "needs_background": "light"
     },
     "output_type": "display_data"
    }
   ],
   "source": [
    "plt.scatter(kmeans.cluster_centers_[:,0],kmeans.cluster_centers_[:,1],s=300,c='yellow',label='Centroids')"
   ]
  },
  {
   "cell_type": "code",
   "execution_count": 20,
   "id": "4e7ed7d1",
   "metadata": {},
   "outputs": [],
   "source": [
    "df = pd.read_csv('murder_assault_.csv')"
   ]
  },
  {
   "cell_type": "code",
   "execution_count": 25,
   "id": "dbae69c4",
   "metadata": {},
   "outputs": [],
   "source": [
    "X1 = df.iloc[:,[1,2]].values"
   ]
  },
  {
   "cell_type": "code",
   "execution_count": 26,
   "id": "2fd60607",
   "metadata": {},
   "outputs": [
    {
     "name": "stderr",
     "output_type": "stream",
     "text": [
      "C:\\Users\\home\\AppData\\Roaming\\Python\\Python38\\site-packages\\sklearn\\cluster\\_kmeans.py:1036: UserWarning: KMeans is known to have a memory leak on Windows with MKL, when there are less chunks than available threads. You can avoid it by setting the environment variable OMP_NUM_THREADS=1.\n",
      "  warnings.warn(\n"
     ]
    }
   ],
   "source": [
    "cds1 = []\n",
    "for i in range(1,11):\n",
    "    kmeans=KMeans(n_clusters=i, init='k-means++',random_state=0)\n",
    "    kmeans.fit(X1)\n",
    "    cds1.append(kmeans.inertia_)"
   ]
  },
  {
   "cell_type": "code",
   "execution_count": 28,
   "id": "d974b6be",
   "metadata": {},
   "outputs": [
    {
     "data": {
      "image/png": "[encoded data removed]",
      "text/plain": [
       "<Figure size 432x288 with 1 Axes>"
      ]
     },
     "metadata": {
      "needs_background": "light"
     },
     "output_type": "display_data"
    }
   ],
   "source": [
    "plt.plot(range(1,11),cds1)\n",
    "plt.title('The Elbow Method')\n",
    "plt.xlabel('Number of Clusters')\n",
    "plt.ylabel('CDS')\n",
    "plt.show()"
   ]
  },
  {
   "cell_type": "code",
   "execution_count": 29,
   "id": "ca4c928f",
   "metadata": {},
   "outputs": [],
   "source": [
    "kmeans=KMeans(n_clusters=2,init='k-means++',random_state=0)\n",
    "y_kmeans=kmeans.fit_predict(X1)"
   ]
  },
  {
   "cell_type": "code",
   "execution_count": 31,
   "id": "2d3f057f",
   "metadata": {},
   "outputs": [
    {
     "name": "stdout",
     "output_type": "stream",
     "text": [
      "KMeans(n_clusters=2, random_state=0)\n"
     ]
    }
   ],
   "source": [
    "print(kmeans)"
   ]
  },
  {
   "cell_type": "code",
   "execution_count": 30,
   "id": "783636d5",
   "metadata": {},
   "outputs": [
    {
     "name": "stdout",
     "output_type": "stream",
     "text": [
      "[1 1 1 1 1 1 1 0 0 0 0]\n"
     ]
    }
   ],
   "source": [
    "print(y_kmeans)"
   ]
  },
  {
   "cell_type": "code",
   "execution_count": 34,
   "id": "4031f3d4",
   "metadata": {},
   "outputs": [
    {
     "name": "stdout",
     "output_type": "stream",
     "text": [
      "[False False False False False False False  True  True  True  True] 0\n",
      "[False False False False False False False  True  True  True  True] 1\n",
      "[741 714 830 851]\n",
      "[8 2 4 6]\n"
     ]
    }
   ],
   "source": [
    "print(y_kmeans==0,0)\n",
    "print(y_kmeans==0,1)\n",
    "print(X1[y_kmeans==0,0])\n",
    "print(X1[y_kmeans==0,1])"
   ]
  },
  {
   "cell_type": "code",
   "execution_count": 35,
   "id": "8768a216",
   "metadata": {},
   "outputs": [
    {
     "data": {
      "text/plain": [
       "<matplotlib.collections.PathCollection at 0x1c29f8ee190>"
      ]
     },
     "execution_count": 35,
     "metadata": {},
     "output_type": "execute_result"
    },
    {
     "data": {
      "image/png": "[encoded data removed]",
      "text/plain": [
       "<Figure size 432x288 with 1 Axes>"
      ]
     },
     "metadata": {
      "needs_background": "light"
     },
     "output_type": "display_data"
    }
   ],
   "source": [
    "plt.scatter(X1[y_kmeans==0,0],X1[y_kmeans==0,1],s=100,c='red',label='Cluster1')\n",
    "plt.scatter(X1[y_kmeans==1,0],X1[y_kmeans==1,1],s=100,c='blue',label='Cluster2')"
   ]
  },
  {
   "cell_type": "code",
   "execution_count": null,
   "id": "7cf914a9",
   "metadata": {},
   "outputs": [],
   "source": []
  }
 ],
 "metadata": {
  "kernelspec": {
   "display_name": "Python 3",
   "language": "python",
   "name": "python3"
  },
  "language_info": {
   "codemirror_mode": {
    "name": "ipython",
    "version": 3
   },
   "file_extension": ".py",
   "mimetype": "text/x-python",
   "name": "python",
   "nbconvert_exporter": "python",
   "pygments_lexer": "ipython3",
   "version": "3.8.8"
  }
 },
 "nbformat": 4,
 "nbformat_minor": 5
}
